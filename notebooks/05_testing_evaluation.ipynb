{
 "cells": [
  {
   "cell_type": "markdown",
   "metadata": {},
   "source": [
    "### In this notebook we show how the model to model evaluation module works"
   ]
  },
  {
   "cell_type": "code",
   "execution_count": 15,
   "metadata": {},
   "outputs": [],
   "source": [
    "import sys, json\n",
    "\n",
    "sys.path.append(\"../\")\n",
    "sys.path.append(\"../src/\")\n",
    "sys.path.append(\"../data/\")"
   ]
  },
  {
   "cell_type": "code",
   "execution_count": 14,
   "metadata": {},
   "outputs": [],
   "source": [
    "# load ground truth from examples\n",
    "filename_ground_truth = f\"../examples/E_j04.json\"\n",
    "with open(filename_ground_truth, \"r\") as infile:\n",
    "    E4 = json.load(infile)\n",
    "\n",
    "# load generated from examples\n",
    "filename_generated = f\"../examples/E_j04_4.bpmn2 _ Signavio.json\"\n",
    "with open(filename_generated, \"r\") as infile:\n",
    "    E4_1 = json.load(infile)"
   ]
  },
  {
   "cell_type": "code",
   "execution_count": 4,
   "metadata": {},
   "outputs": [],
   "source": [
    "from bpmn_schema_helper import BPMNProcessor\n",
    "\n",
    "processor = BPMNProcessor()\n",
    "\n",
    "processor.flatten_bpmn_rec(E4)\n",
    "processor.polish_schema(processor.elements)\n",
    "E4_json = json.dumps(processor.elements, indent=2)\n",
    "\n",
    "processor.flatten_bpmn_rec(E4_1)\n",
    "processor.polish_schema(processor.elements)\n",
    "E4_1_json = json.dumps(processor.elements, indent=2)"
   ]
  },
  {
   "cell_type": "code",
   "execution_count": 12,
   "metadata": {},
   "outputs": [
    {
     "name": "stderr",
     "output_type": "stream",
     "text": [
      "/Users/I741988/evaluation_repo/.venv/lib/python3.11/site-packages/tqdm/auto.py:21: TqdmWarning: IProgress not found. Please update jupyter and ipywidgets. See https://ipywidgets.readthedocs.io/en/stable/user_install.html\n",
      "  from .autonotebook import tqdm as notebook_tqdm\n"
     ]
    }
   ],
   "source": [
    "from evaluation import bpmn_similarity"
   ]
  },
  {
   "cell_type": "code",
   "execution_count": 16,
   "metadata": {},
   "outputs": [
    {
     "data": {
      "text/plain": [
       "({'overall': 0.3392857142857143,\n",
       "  'tasks_overall': 0.48,\n",
       "  'task_names': 0.48,\n",
       "  'task_types': 0.48,\n",
       "  'events_overall': 0.8,\n",
       "  'event_names': 1.0,\n",
       "  'event_types': 0.6666666666666666,\n",
       "  'gateways_overall': 0.16666666666666666,\n",
       "  'gateway_names': 0.0,\n",
       "  'gateway_types': 0.2222222222222222,\n",
       "  'flows_overall': 0.0,\n",
       "  'sequence_flows': 0.0,\n",
       "  'message_flows': 1,\n",
       "  'lanes_overall': 0.3076923076923077,\n",
       "  'lanes_without_refs': 1.0,\n",
       "  'lanes_with_refs': 0.0},\n",
       " 0.3392857142857143)"
      ]
     },
     "execution_count": 16,
     "metadata": {},
     "output_type": "execute_result"
    }
   ],
   "source": [
    "bpmn_similarity.calculate_similarity_scores(json.loads(E4_json), json.loads(E4_1_json))"
   ]
  },
  {
   "cell_type": "markdown",
   "metadata": {},
   "source": []
  }
 ],
 "metadata": {
  "kernelspec": {
   "display_name": "ml_mac",
   "language": "python",
   "name": "python3"
  },
  "language_info": {
   "codemirror_mode": {
    "name": "ipython",
    "version": 3
   },
   "file_extension": ".py",
   "mimetype": "text/x-python",
   "name": "python",
   "nbconvert_exporter": "python",
   "pygments_lexer": "ipython3",
   "version": "3.11.6"
  }
 },
 "nbformat": 4,
 "nbformat_minor": 2
}
