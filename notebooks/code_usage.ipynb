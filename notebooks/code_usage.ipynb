{
 "cells": [
  {
   "cell_type": "markdown",
   "metadata": {},
   "source": [
    "### In this notebook we show how the model to model evaluation module works"
   ]
  },
  {
   "cell_type": "code",
   "execution_count": 1,
   "metadata": {},
   "outputs": [],
   "source": [
    "import sys, json\n",
    "\n",
    "sys.path.append(\"../\")\n",
    "sys.path.append(\"../evaluation/\")"
   ]
  },
  {
   "cell_type": "code",
   "execution_count": 2,
   "metadata": {},
   "outputs": [],
   "source": [
    "# load some examples from examples folder in Signavio json format\n",
    "filename_ground_truth = f\"../examples/E_j04.json\"\n",
    "with open(filename_ground_truth, \"r\") as infile:\n",
    "    E4 = json.load(infile)\n",
    "\n",
    "\n",
    "filename_generated = f\"../examples/E_j04_4.bpmn2 _ Signavio.json\"\n",
    "with open(filename_generated, \"r\") as infile:\n",
    "    E4_1 = json.load(infile)\n",
    "\n",
    "\n",
    "filename_generated = f\"../examples/process_complex.json\"\n",
    "with open(filename_generated, \"r\") as infile:\n",
    "    pc = json.load(infile)\n",
    "\n",
    "# load in a generated and a ground truth from minimal json format\n",
    "filename_generated = f\"../examples/1_generated.json\"\n",
    "with open(filename_generated, \"r\") as infile:\n",
    "    generated = json.load(infile)\n",
    "\n",
    "filename_generated = f\"../examples/1_groundt.json\"\n",
    "with open(filename_generated, \"r\") as infile:\n",
    "    gt = json.load(infile)"
   ]
  },
  {
   "cell_type": "code",
   "execution_count": 3,
   "metadata": {},
   "outputs": [
    {
     "name": "stdout",
     "output_type": "stream",
     "text": [
      "Error in BPMNDiagram element\n"
     ]
    }
   ],
   "source": [
    "import json\n",
    "\n",
    "from bpmn_schema_helper import BPMNProcessor\n",
    "\n",
    "# parse the signavio json into minimal json format\n",
    "processor = BPMNProcessor()\n",
    "transformed_data = processor.transform_to_bpmn_schema(E4)\n",
    "E4_json = processor.to_json()\n",
    "\n",
    "transformed_data = processor.transform_to_bpmn_schema(E4_1)\n",
    "E4_1_json = processor.to_json()\n",
    "\n",
    "transformed_data = processor.transform_to_bpmn_schema(pc)\n",
    "pc_json = processor.to_json()"
   ]
  },
  {
   "cell_type": "code",
   "execution_count": 9,
   "metadata": {},
   "outputs": [
    {
     "data": {
      "text/plain": [
       "{'task_names': ['Receive offers',\n",
       "  'Write status updates',\n",
       "  'Recommend company to friends',\n",
       "  'Send offers',\n",
       "  'Write status updates',\n",
       "  'End of internship'],\n",
       " 'task_types': ['Task', 'Task', 'Task', 'Task', 'Task', 'Task'],\n",
       " 'event_names': ['Enter topic, money, experience and hobbies',\n",
       "  'Offer accepted'],\n",
       " 'event_types': ['StartNoneEvent', 'EndNoneEvent'],\n",
       " 'gateway_names': [],\n",
       " 'gateway_types': ['Exclusive'],\n",
       " 'seq_flows_str': [],\n",
       " 'mes_flows_str': [],\n",
       " 'lanes': ['Internship Process - Intern', 'Internship Process - Company'],\n",
       " 'lanes_with_refs': ['Internship Process - Intern - Receive offers',\n",
       "  'Internship Process - Intern - Write status updates',\n",
       "  'Internship Process - Intern - Recommend company to friends',\n",
       "  'Internship Process - Intern - Enter topic, money, experience and hobbies',\n",
       "  'Internship Process - Intern - Offer accepted',\n",
       "  'Internship Process - Intern - Exclusive',\n",
       "  'Internship Process - Company - Send offers',\n",
       "  'Internship Process - Company - Write status updates',\n",
       "  'Internship Process - Company - End of internship']}"
      ]
     },
     "execution_count": 9,
     "metadata": {},
     "output_type": "execute_result"
    }
   ],
   "source": [
    "import bpmn_similarity\n",
    "\n",
    "# extract the sets of elements from the minimal\n",
    "bpmn_similarity.extract_bpmn_sets(json.loads(E4_json))"
   ]
  },
  {
   "cell_type": "code",
   "execution_count": 10,
   "metadata": {},
   "outputs": [
    {
     "data": {
      "text/plain": [
       "({'overall': 0.12903225806451613,\n",
       "  'tasks_overall': 0.15789473684210525,\n",
       "  'task_names': 0.3157894736842105,\n",
       "  'task_types': 0.0,\n",
       "  'events_overall': 0.6666666666666666,\n",
       "  'event_names': 0.0,\n",
       "  'event_types': 1.0,\n",
       "  'gateways_overall': 0.18181818181818182,\n",
       "  'gateway_names': 0.0,\n",
       "  'gateway_types': 0.25,\n",
       "  'flows_overall': 0.0,\n",
       "  'sequence_flows': 0.0,\n",
       "  'message_flows': 1,\n",
       "  'lanes_overall': 0.0,\n",
       "  'lanes_without_refs': 0.0,\n",
       "  'lanes_with_refs': 0.0},\n",
       " 0.12903225806451613)"
      ]
     },
     "execution_count": 10,
     "metadata": {},
     "output_type": "execute_result"
    }
   ],
   "source": [
    "# calculate a similarity score between two minimal jsons\n",
    "bpmn_similarity.calculate_similarity_scores(json.loads(E4_json), json.loads(E4_1_json))"
   ]
  },
  {
   "cell_type": "code",
   "execution_count": 11,
   "metadata": {},
   "outputs": [
    {
     "data": {
      "text/plain": [
       "({'overall': 0.875,\n",
       "  'tasks_overall': 1.0,\n",
       "  'task_names': 1.0,\n",
       "  'task_types': 1.0,\n",
       "  'events_overall': 1.0,\n",
       "  'event_names': 1.0,\n",
       "  'event_types': 1.0,\n",
       "  'gateways_overall': 0.5714285714285714,\n",
       "  'gateway_names': 0.0,\n",
       "  'gateway_types': 0.8888888888888888,\n",
       "  'flows_overall': 0.75,\n",
       "  'sequence_flows': 0.75,\n",
       "  'message_flows': 1,\n",
       "  'lanes_overall': 0.9473684210526315,\n",
       "  'lanes_without_refs': 1.0,\n",
       "  'lanes_with_refs': 0.9333333333333333},\n",
       " 0.875)"
      ]
     },
     "execution_count": 11,
     "metadata": {},
     "output_type": "execute_result"
    }
   ],
   "source": [
    "# calculate a similarity score between two minimal jsons\n",
    "bpmn_similarity.calculate_similarity_scores(generated, gt)"
   ]
  },
  {
   "cell_type": "markdown",
   "metadata": {},
   "source": []
  }
 ],
 "metadata": {
  "kernelspec": {
   "display_name": "ml_mac",
   "language": "python",
   "name": "python3"
  },
  "language_info": {
   "codemirror_mode": {
    "name": "ipython",
    "version": 3
   },
   "file_extension": ".py",
   "mimetype": "text/x-python",
   "name": "python",
   "nbconvert_exporter": "python",
   "pygments_lexer": "ipython3",
   "version": "3.11.6"
  }
 },
 "nbformat": 4,
 "nbformat_minor": 2
}
