{
 "cells": [
  {
   "cell_type": "markdown",
   "metadata": {},
   "source": [
    "### In this notebook we show how the model to model evaluation module works"
   ]
  },
  {
   "cell_type": "code",
   "execution_count": 1,
   "metadata": {},
   "outputs": [],
   "source": [
    "import sys, json\n",
    "\n",
    "sys.path.append(\"../\")\n",
    "sys.path.append(\"../evaluation/\")"
   ]
  },
  {
   "cell_type": "code",
   "execution_count": 2,
   "metadata": {},
   "outputs": [],
   "source": [
    "# load some examples from examples folder in Signavio json format\n",
    "filename_ground_truth = f\"../examples/E_j04.json\"\n",
    "with open(filename_ground_truth, \"r\") as infile:\n",
    "    E4 = json.load(infile)\n",
    "\n",
    "\n",
    "filename_generated = f\"../examples/E_j04_4.bpmn2 _ Signavio.json\"\n",
    "with open(filename_generated, \"r\") as infile:\n",
    "    E4_1 = json.load(infile)\n",
    "\n",
    "\n",
    "filename_generated = f\"../examples/process_complex.json\"\n",
    "with open(filename_generated, \"r\") as infile:\n",
    "    pc = json.load(infile)\n",
    "\n",
    "# load in a generated and a ground truth from minimal json format\n",
    "filename_generated = f\"../examples/1_generated.json\"\n",
    "with open(filename_generated, \"r\") as infile:\n",
    "    generated = json.load(infile)\n",
    "\n",
    "filename_generated = f\"../examples/1_groundt.json\"\n",
    "with open(filename_generated, \"r\") as infile:\n",
    "    gt = json.load(infile)"
   ]
  },
  {
   "cell_type": "code",
   "execution_count": 3,
   "metadata": {},
   "outputs": [
    {
     "name": "stdout",
     "output_type": "stream",
     "text": [
      "Error in BPMNDiagram element\n"
     ]
    }
   ],
   "source": [
    "import json\n",
    "\n",
    "from bpmn_schema_helper import BPMNProcessor\n",
    "\n",
    "# parse the signavio json into minimal json format\n",
    "processor = BPMNProcessor()\n",
    "transformed_data = processor.transform_to_bpmn_schema(E4)\n",
    "E4_json = processor.to_json()\n",
    "\n",
    "transformed_data = processor.transform_to_bpmn_schema(E4_1)\n",
    "E4_1_json = processor.to_json()\n",
    "\n",
    "transformed_data = processor.transform_to_bpmn_schema(pc)\n",
    "pc_json = processor.to_json()"
   ]
  },
  {
   "cell_type": "code",
   "execution_count": 4,
   "metadata": {},
   "outputs": [
    {
     "name": "stderr",
     "output_type": "stream",
     "text": [
      "/Users/I741988/model-to-model-evaluation-code/.venv/lib/python3.11/site-packages/tqdm/auto.py:21: TqdmWarning: IProgress not found. Please update jupyter and ipywidgets. See https://ipywidgets.readthedocs.io/en/stable/user_install.html\n",
      "  from .autonotebook import tqdm as notebook_tqdm\n"
     ]
    },
    {
     "data": {
      "text/plain": [
       "{'task_names': ['Enter topic, salary expectations, experience and hobbies',\n",
       "  'Present offers',\n",
       "  'Invalidate other offers',\n",
       "  'Receive status update about internship',\n",
       "  'Write status update about trainee',\n",
       "  'Propose recommendation of company to friends of user',\n",
       "  'Let user decide on friends',\n",
       "  'Receive list of friends',\n",
       "  'Create post for each selected friend',\n",
       "  'Let user approve the posts',\n",
       "  'Send posts',\n",
       "  'Ask for reasons',\n",
       "  'Receive reason'],\n",
       " 'task_types': ['User',\n",
       "  'Service',\n",
       "  'Service',\n",
       "  'User',\n",
       "  'Manual',\n",
       "  'Send',\n",
       "  'Service',\n",
       "  'Receive',\n",
       "  'Script',\n",
       "  'User',\n",
       "  'Service',\n",
       "  'Service',\n",
       "  'Receive'],\n",
       " 'event_names': [],\n",
       " 'event_types': ['StartNoneEvent', 'EndNoneEvent'],\n",
       " 'gateway_names': ['User decides on offers',\n",
       "  'Does the user recommend  the company?',\n",
       "  'User approves?'],\n",
       " 'gateway_types': ['Exclusive',\n",
       "  'Parallel',\n",
       "  'Parallel',\n",
       "  'Exclusive',\n",
       "  'Exclusive',\n",
       "  'Exclusive',\n",
       "  'Complex'],\n",
       " 'seq_flows_str': ['Present offers  Exclusive',\n",
       "  'Enter topic, salary expectations, experience and hobbies  Present offers',\n",
       "  '  Enter topic, salary expectations, experience and hobbies',\n",
       "  'Invalidate other offers  Parallel',\n",
       "  'Receive status update about internship  Parallel',\n",
       "  'Write status update about trainee  Parallel',\n",
       "  'Parallel  Propose recommendation of company to friends of user',\n",
       "  'Parallel  Receive status update about internship',\n",
       "  'Parallel  Write status update about trainee',\n",
       "  'Exclusive accept Invalidate other offers',\n",
       "  'Propose recommendation of company to friends of user  Exclusive',\n",
       "  'Exclusive yes Let user decide on friends',\n",
       "  'Let user decide on friends  Receive list of friends',\n",
       "  'Receive list of friends  Create post for each selected friend',\n",
       "  'Create post for each selected friend  Let user approve the posts',\n",
       "  'Exclusive yes Send posts',\n",
       "  'Let user approve the posts  Exclusive',\n",
       "  'Exclusive no Ask for reasons',\n",
       "  'Send posts  Exclusive',\n",
       "  'Exclusive  ',\n",
       "  'Exclusive decline Present offers',\n",
       "  'Exclusive no ',\n",
       "  'Complex clicked the wrong button Let user approve the posts',\n",
       "  'Ask for reasons  Receive reason',\n",
       "  'Receive reason  Complex',\n",
       "  'Complex adaptation of friend list needed Let user decide on friends',\n",
       "  \"Complex won't recommend any mor Exclusive\"],\n",
       " 'mes_flows_str': [],\n",
       " 'lanes': [],\n",
       " 'lanes_with_refs': []}"
      ]
     },
     "execution_count": 4,
     "metadata": {},
     "output_type": "execute_result"
    }
   ],
   "source": [
    "import bpmn_similarity\n",
    "\n",
    "# extract the sets of elements from the minimal json format\n",
    "bpmn_similarity.extract_bpmn_sets(json.loads(E4_1_json))"
   ]
  },
  {
   "cell_type": "code",
   "execution_count": 6,
   "metadata": {},
   "outputs": [
    {
     "data": {
      "text/plain": [
       "({'overall': 0.11694152923538234,\n",
       "  'tasks_overall': 0.125,\n",
       "  'task_names': 0.0,\n",
       "  'task_types': 0.25,\n",
       "  'events_overall': 0.5,\n",
       "  'event_names': 0.0,\n",
       "  'event_types': 1.0,\n",
       "  'gateways_overall': 0.25,\n",
       "  'gateway_names': 1,\n",
       "  'gateway_types': 0.25,\n",
       "  'flows_overall': 0,\n",
       "  'sequence_flows': 0.0,\n",
       "  'message_flows': 1,\n",
       "  'lanes_overall': 0.0,\n",
       "  'lanes_without_refs': 0.0,\n",
       "  'lanes_with_refs': 0.0},\n",
       " 0.11694152923538234)"
      ]
     },
     "execution_count": 6,
     "metadata": {},
     "output_type": "execute_result"
    }
   ],
   "source": [
    "bpmn_similarity.calculate_similarity_scores(\n",
    "    json.loads(pc_json), json.loads(E4_json), method=\"jaccard\", similarity_threshold=0.98\n",
    ")"
   ]
  },
  {
   "cell_type": "code",
   "execution_count": 11,
   "metadata": {},
   "outputs": [
    {
     "data": {
      "text/plain": [
       "{'overall': 0.1375,\n",
       " 'tasks_overall': 0.2,\n",
       " 'events_overall': 0.5,\n",
       " 'gateways_overall': 0.4,\n",
       " 'flows_overall': 0,\n",
       " 'lanes_overall': 0.0}"
      ]
     },
     "execution_count": 11,
     "metadata": {},
     "output_type": "execute_result"
    }
   ],
   "source": [
    "# calculate a similarity score between two minimal jsons\n",
    "bpmn_similarity.calculate_similarity_alternative(\n",
    "    json.loads(pc_json), json.loads(E4_json), method=\"f1\", similarity_threshold=0.98\n",
    ")"
   ]
  },
  {
   "cell_type": "markdown",
   "metadata": {},
   "source": []
  },
  {
   "cell_type": "markdown",
   "metadata": {},
   "source": []
  }
 ],
 "metadata": {
  "kernelspec": {
   "display_name": "ml_mac",
   "language": "python",
   "name": "python3"
  },
  "language_info": {
   "codemirror_mode": {
    "name": "ipython",
    "version": 3
   },
   "file_extension": ".py",
   "mimetype": "text/x-python",
   "name": "python",
   "nbconvert_exporter": "python",
   "pygments_lexer": "ipython3",
   "version": "3.11.6"
  }
 },
 "nbformat": 4,
 "nbformat_minor": 2
}
