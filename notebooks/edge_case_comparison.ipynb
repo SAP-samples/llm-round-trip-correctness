{
 "cells": [
  {
   "cell_type": "code",
   "execution_count": 2,
   "metadata": {},
   "outputs": [],
   "source": [
    "import os, sys, json\n",
    "\n",
    "sys.path.append(\"../\")\n",
    "sys.path.append(\"../src/\")\n",
    "sys.path.append(\"../data/\")\n",
    "sys.path.append(\"../model_evaluation\")\n",
    "sys.path.append(\"../model_evaluation/evaluation\")"
   ]
  },
  {
   "cell_type": "code",
   "execution_count": 3,
   "metadata": {},
   "outputs": [
    {
     "name": "stderr",
     "output_type": "stream",
     "text": [
      "/Users/I741988/round-trip/.venv/lib/python3.11/site-packages/tqdm/auto.py:21: TqdmWarning: IProgress not found. Please update jupyter and ipywidgets. See https://ipywidgets.readthedocs.io/en/stable/user_install.html\n",
      "  from .autonotebook import tqdm as notebook_tqdm\n",
      "[nltk_data] Downloading package punkt_tab to\n",
      "[nltk_data]     /Users/I741988/nltk_data...\n",
      "[nltk_data]   Package punkt_tab is already up-to-date!\n"
     ]
    }
   ],
   "source": [
    "from text_evaluation import text_similarity as ts\n",
    "import bpmn_similarity"
   ]
  },
  {
   "cell_type": "code",
   "execution_count": 3,
   "metadata": {},
   "outputs": [],
   "source": [
    "path_text_1 = \"../data/edge_case/original/generated_process_description/\"\n",
    "path_text_2 = \"../data/edge_case/changed/generated_process_description/\"\n",
    "# path_text_1 = \"../data/edge_case/original/process_descriptions/\"\n",
    "# path_text_2 = \"../data/edge_case/changed/process_descriptions/\"\n",
    "path_model_1 = \"../data/edge_case/original/ground_json/\"\n",
    "path_model_2 = \"../data/edge_case/changed/ground_json/\""
   ]
  },
  {
   "cell_type": "code",
   "execution_count": 4,
   "metadata": {},
   "outputs": [],
   "source": [
    "eval = {\"text_sts\": [], \"text_sentence_sim\": [], \"model\": []}\n",
    "for i in [\"1_2\", \"3_3\", \"10_6\"]:\n",
    "    with open(path_text_1 + i + \".txt\", \"r\") as file:\n",
    "        file_1 = file.read()\n",
    "\n",
    "    with open(path_text_2 + i + \".txt\", \"r\") as file:\n",
    "        file_2 = file.read()\n",
    "\n",
    "    with open(path_model_1 + i + \".json\", \"r\") as infile:\n",
    "        g1 = json.load(infile)\n",
    "\n",
    "    with open(path_model_2 + i + \".json\", \"r\") as infile:\n",
    "        g2 = json.load(infile)\n",
    "\n",
    "    sentences_1 = ts.get_sentences(file_1)\n",
    "    sentences_2 = ts.get_sentences(file_2)\n",
    "\n",
    "    adjusted_sen2 = ts.align_sentences(sentences_1, sentences_2, threshold=0.8)\n",
    "    sequence_similarity = ts.sequence_similarity(sentences_1, adjusted_sen2)\n",
    "    overalll_sim = 0.5 * ts.sts_bert(file_1, file_2) + 0.5 * sequence_similarity\n",
    "\n",
    "    eval[\"text_sts\"].append(ts.sts_bert(file_1, file_2))\n",
    "    eval[\"text_sentence_sim\"].append(overalll_sim)\n",
    "    eval[\"model\"].append(\n",
    "        bpmn_similarity.calculate_similarity_scores(g1, g2, method=\"dice\", similarity_threshold=0.98)[0][\"overall\"]\n",
    "    )"
   ]
  },
  {
   "cell_type": "code",
   "execution_count": null,
   "metadata": {},
   "outputs": [],
   "source": [
    "def text_similarity_alternative(file_1, file_2, threshold=0.8):\n",
    "    \"\"\"\n",
    "    Args:\n",
    "        file_1, file_2:  2 input text files.\n",
    "    Returns:\n",
    "        float: an overall similarity score.\n",
    "    \"\"\"\n",
    "    sentences_1 = ts.get_sentences(file_1)\n",
    "    sentences_2 = ts.get_sentences(file_2)\n",
    "    adjusted_sen2 = ts.align_sentences(sentences_1, sentences_2, threshold=threshold)\n",
    "    sequence_similarity = ts.sequence_similarity(sentences_1, adjusted_sen2)\n",
    "    overall_sim = 0.5 * ts.sts_bert(file_1, file_2) + 0.5 * sequence_similarity\n",
    "    return overall_sim"
   ]
  },
  {
   "cell_type": "code",
   "execution_count": 8,
   "metadata": {},
   "outputs": [
    {
     "data": {
      "text/plain": [
       "['I am a piece of text!', 'can you see me?']"
      ]
     },
     "execution_count": 8,
     "metadata": {},
     "output_type": "execute_result"
    }
   ],
   "source": []
  },
  {
   "cell_type": "code",
   "execution_count": 7,
   "metadata": {},
   "outputs": [],
   "source": [
    "from matplotlib import pyplot as plt"
   ]
  },
  {
   "cell_type": "code",
   "execution_count": 12,
   "metadata": {},
   "outputs": [
    {
     "data": {
      "text/plain": [
       "<matplotlib.legend.Legend at 0x1363855d0>"
      ]
     },
     "execution_count": 12,
     "metadata": {},
     "output_type": "execute_result"
    },
    {
     "data": {
      "image/png": "[encoded data removed]",
      "text/plain": [
       "<Figure size 640x480 with 1 Axes>"
      ]
     },
     "metadata": {},
     "output_type": "display_data"
    }
   ],
   "source": [
    "plt.scatter(eval[\"text_sts\"], eval[\"model\"], label=\"STS\")\n",
    "plt.scatter(eval[\"text_sentence_sim\"], eval[\"model\"], label=\"Sentence Similarity\")\n",
    "plt.xlim(0.5, 1)\n",
    "plt.ylim(0.5, 1)\n",
    "plt.legend()"
   ]
  }
 ],
 "metadata": {
  "kernelspec": {
   "display_name": ".venv",
   "language": "python",
   "name": "python3"
  },
  "language_info": {
   "codemirror_mode": {
    "name": "ipython",
    "version": 3
   },
   "file_extension": ".py",
   "mimetype": "text/x-python",
   "name": "python",
   "nbconvert_exporter": "python",
   "pygments_lexer": "ipython3",
   "version": "3.11.6"
  }
 },
 "nbformat": 4,
 "nbformat_minor": 2
}
